{
  "nbformat": 4,
  "nbformat_minor": 0,
  "metadata": {
    "colab": {
      "name": "Untitled2.ipynb",
      "provenance": []
    },
    "kernelspec": {
      "name": "python3",
      "display_name": "Python 3"
    },
    "accelerator": "GPU"
  },
  "cells": [
    {
      "cell_type": "code",
      "metadata": {
        "id": "BdA-KlCmGyKU",
        "colab_type": "code",
        "colab": {
          "base_uri": "https://localhost:8080/",
          "height": 130
        },
        "outputId": "601ce0c9-0db1-425f-9117-7a28efc9c07e"
      },
      "source": [
        "from google.colab import drive\n",
        "drive.mount('/content/drive')"
      ],
      "execution_count": 1,
      "outputs": [
        {
          "output_type": "stream",
          "text": [
            "Go to this URL in a browser: https://accounts.google.com/o/oauth2/auth?client_id=947318989803-6bn6qk8qdgf4n4g3pfee6491hc0brc4i.apps.googleusercontent.com&redirect_uri=urn%3aietf%3awg%3aoauth%3a2.0%3aoob&response_type=code&scope=email%20https%3a%2f%2fwww.googleapis.com%2fauth%2fdocs.test%20https%3a%2f%2fwww.googleapis.com%2fauth%2fdrive%20https%3a%2f%2fwww.googleapis.com%2fauth%2fdrive.photos.readonly%20https%3a%2f%2fwww.googleapis.com%2fauth%2fpeopleapi.readonly\n",
            "\n",
            "Enter your authorization code:\n",
            "··········\n",
            "Mounted at /content/drive\n"
          ],
          "name": "stdout"
        }
      ]
    },
    {
      "cell_type": "code",
      "metadata": {
        "id": "6C083KE1G0lV",
        "colab_type": "code",
        "colab": {
          "base_uri": "https://localhost:8080/",
          "height": 166
        },
        "outputId": "5a2fad7b-71b0-49e9-a652-c898caa5f666"
      },
      "source": [
        "!apt install unzip\n"
      ],
      "execution_count": 2,
      "outputs": [
        {
          "output_type": "stream",
          "text": [
            "Reading package lists... Done\n",
            "Building dependency tree       \n",
            "Reading state information... Done\n",
            "unzip is already the newest version (6.0-21ubuntu1).\n",
            "The following package was automatically installed and is no longer required:\n",
            "  libnvidia-common-440\n",
            "Use 'apt autoremove' to remove it.\n",
            "0 upgraded, 0 newly installed, 0 to remove and 35 not upgraded.\n"
          ],
          "name": "stdout"
        }
      ]
    },
    {
      "cell_type": "code",
      "metadata": {
        "id": "vVD5X7BOG8Bg",
        "colab_type": "code",
        "colab": {}
      },
      "source": [
        "!unzip -uq \"/content/drive/My Drive/pcd.zip\" -d \"/content/drive/My Drive/playing card dataset\"\n"
      ],
      "execution_count": 4,
      "outputs": []
    },
    {
      "cell_type": "code",
      "metadata": {
        "id": "6-KgOE8dG-Oo",
        "colab_type": "code",
        "colab": {}
      },
      "source": [
        "IMAGE_SIZE = [224, 224]\n"
      ],
      "execution_count": 5,
      "outputs": []
    },
    {
      "cell_type": "code",
      "metadata": {
        "id": "jKdAig9eHsZy",
        "colab_type": "code",
        "colab": {
          "base_uri": "https://localhost:8080/",
          "height": 36
        },
        "outputId": "b84e58fd-22f4-4a6e-a634-aa432833f2e5"
      },
      "source": [
        "import pandas as pd\n",
        "import numpy as np\n",
        "import os\n",
        "import keras\n",
        "import matplotlib.pyplot as plt\n",
        "from keras.layers import Dense, GlobalAveragePooling2D\n",
        "from keras.preprocessing import image\n",
        "from keras.preprocessing.image import ImageDataGenerator\n",
        "from keras.models import Model\n",
        "from keras import optimizers\n",
        "from keras import applications\n",
        "from keras.applications.vgg16 import preprocess_input\n",
        "from keras.applications.vgg16 import VGG16\n",
        "from keras.layers import Dense, Flatten, Dropout\n"
      ],
      "execution_count": 6,
      "outputs": [
        {
          "output_type": "stream",
          "text": [
            "Using TensorFlow backend.\n"
          ],
          "name": "stderr"
        }
      ]
    },
    {
      "cell_type": "code",
      "metadata": {
        "id": "owbPy32NHuFU",
        "colab_type": "code",
        "colab": {
          "base_uri": "https://localhost:8080/",
          "height": 74
        },
        "outputId": "ed786f8c-4b9b-4f94-8c34-00c2bb283f11"
      },
      "source": [
        "base_model=keras.applications.VGG16(\n",
        "    include_top=False,\n",
        "    weights=\"imagenet\",\n",
        "    input_shape=(224,224,3))"
      ],
      "execution_count": 7,
      "outputs": [
        {
          "output_type": "stream",
          "text": [
            "Downloading data from https://github.com/fchollet/deep-learning-models/releases/download/v0.1/vgg16_weights_tf_dim_ordering_tf_kernels_notop.h5\n",
            "58892288/58889256 [==============================] - 6s 0us/step\n"
          ],
          "name": "stdout"
        }
      ]
    },
    {
      "cell_type": "code",
      "metadata": {
        "id": "SYA-y9N7HyDj",
        "colab_type": "code",
        "colab": {}
      },
      "source": [
        "base_model.trainable = False\n"
      ],
      "execution_count": 8,
      "outputs": []
    },
    {
      "cell_type": "code",
      "metadata": {
        "id": "lyfKCTBaH0ih",
        "colab_type": "code",
        "colab": {}
      },
      "source": [
        "train_datagen = ImageDataGenerator(rescale=1./255)\n",
        "test_datagen = ImageDataGenerator(rescale=1./255)\n"
      ],
      "execution_count": 9,
      "outputs": []
    },
    {
      "cell_type": "code",
      "metadata": {
        "id": "JxmuaLqpH2uq",
        "colab_type": "code",
        "colab": {
          "base_uri": "https://localhost:8080/",
          "height": 36
        },
        "outputId": "b4129059-56f6-4f6f-ad1b-d714a1458bb8"
      },
      "source": [
        "training_set = train_datagen.flow_from_directory(\"/content/drive/My Drive/playing card dataset/pcd/Train\",\n",
        "                                                 target_size = (224, 224),\n",
        "                                                 batch_size = 16,\n",
        "                                                 class_mode = 'categorical')"
      ],
      "execution_count": 10,
      "outputs": [
        {
          "output_type": "stream",
          "text": [
            "Found 11353 images belonging to 52 classes.\n"
          ],
          "name": "stdout"
        }
      ]
    },
    {
      "cell_type": "code",
      "metadata": {
        "id": "itxKqKIfH6Ej",
        "colab_type": "code",
        "colab": {
          "base_uri": "https://localhost:8080/",
          "height": 36
        },
        "outputId": "e20e2cb0-cb0f-4da7-ef60-d142a3003ef7"
      },
      "source": [
        "\n",
        "test_set = test_datagen.flow_from_directory(\"/content/drive/My Drive/playing card dataset/pcd/Test\",\n",
        "                                            target_size = (224, 224),\n",
        "                                            batch_size = 16,\n",
        "                                            class_mode = 'categorical',\n",
        "                                            )"
      ],
      "execution_count": 11,
      "outputs": [
        {
          "output_type": "stream",
          "text": [
            "Found 1442 images belonging to 52 classes.\n"
          ],
          "name": "stdout"
        }
      ]
    },
    {
      "cell_type": "code",
      "metadata": {
        "id": "tHRNO7X_H-aU",
        "colab_type": "code",
        "colab": {}
      },
      "source": [
        "from keras.models import Sequential\n",
        "from keras.layers import Dense,Flatten,Dropout\n",
        "model=Sequential()\n",
        "model.add(base_model)\n",
        "model.add(Flatten())\n",
        "model.add(Dense(512,activation='relu',kernel_initializer='he_normal'))\n",
        "model.add(Dropout(0.35))\n",
        "model.add(Dense(512,activation='relu',kernel_initializer='he_normal'))\n",
        "model.add(Dropout(0.35))\n",
        "model.add(Dense(52,activation='softmax',kernel_initializer='glorot_normal'))"
      ],
      "execution_count": 12,
      "outputs": []
    },
    {
      "cell_type": "code",
      "metadata": {
        "id": "xHoUj4qjIEAo",
        "colab_type": "code",
        "colab": {
          "base_uri": "https://localhost:8080/",
          "height": 428
        },
        "outputId": "7805be44-7200-4d6e-d1b1-9735a9929120"
      },
      "source": [
        "model.summary()"
      ],
      "execution_count": 13,
      "outputs": [
        {
          "output_type": "stream",
          "text": [
            "Model: \"sequential_1\"\n",
            "_________________________________________________________________\n",
            "Layer (type)                 Output Shape              Param #   \n",
            "=================================================================\n",
            "vgg16 (Model)                (None, 7, 7, 512)         14714688  \n",
            "_________________________________________________________________\n",
            "flatten_1 (Flatten)          (None, 25088)             0         \n",
            "_________________________________________________________________\n",
            "dense_1 (Dense)              (None, 512)               12845568  \n",
            "_________________________________________________________________\n",
            "dropout_1 (Dropout)          (None, 512)               0         \n",
            "_________________________________________________________________\n",
            "dense_2 (Dense)              (None, 512)               262656    \n",
            "_________________________________________________________________\n",
            "dropout_2 (Dropout)          (None, 512)               0         \n",
            "_________________________________________________________________\n",
            "dense_3 (Dense)              (None, 52)                26676     \n",
            "=================================================================\n",
            "Total params: 27,849,588\n",
            "Trainable params: 13,134,900\n",
            "Non-trainable params: 14,714,688\n",
            "_________________________________________________________________\n"
          ],
          "name": "stdout"
        }
      ]
    },
    {
      "cell_type": "code",
      "metadata": {
        "id": "MHDv2fFpIFjr",
        "colab_type": "code",
        "colab": {
          "base_uri": "https://localhost:8080/",
          "height": 1000
        },
        "outputId": "a6c087e5-2bde-4ce7-d14e-4ebcc9e45ecf"
      },
      "source": [
        "from tensorflow.keras.callbacks import EarlyStopping\n",
        "early_stop = EarlyStopping(monitor=\"val_loss\", patience =10)\n",
        "model.compile(optimizer=keras.optimizers.Adam(1e-5),loss='categorical_crossentropy',metrics=['accuracy'])\n",
        "history=model.fit(training_set,epochs=100,validation_data=test_set,workers=10,use_multiprocessing=True, callbacks=[early_stop])"
      ],
      "execution_count": 18,
      "outputs": [
        {
          "output_type": "stream",
          "text": [
            "Epoch 1/100\n",
            "710/710 [==============================] - 144s 203ms/step - loss: 1.2938 - accuracy: 0.6362 - val_loss: 2.3736 - val_accuracy: 0.4702\n",
            "Epoch 1/100\n",
            "Epoch 2/100\n",
            "710/710 [==============================] - 142s 200ms/step - loss: 1.2218 - accuracy: 0.6594 - val_loss: 2.4268 - val_accuracy: 0.4785\n",
            "Epoch 3/100\n",
            "710/710 [==============================] - 142s 199ms/step - loss: 1.1479 - accuracy: 0.6788 - val_loss: 1.0476 - val_accuracy: 0.4799\n",
            "Epoch 4/100\n",
            "710/710 [==============================] - 142s 200ms/step - loss: 1.0765 - accuracy: 0.7019 - val_loss: 2.0149 - val_accuracy: 0.4875\n",
            "Epoch 5/100\n",
            "710/710 [==============================] - 142s 200ms/step - loss: 1.0197 - accuracy: 0.7221 - val_loss: 1.5022 - val_accuracy: 0.5042\n",
            "Epoch 6/100\n",
            "710/710 [==============================] - 142s 200ms/step - loss: 0.9610 - accuracy: 0.7375 - val_loss: 1.5386 - val_accuracy: 0.5062\n",
            "Epoch 7/100\n",
            "710/710 [==============================] - 142s 200ms/step - loss: 0.8944 - accuracy: 0.7600 - val_loss: 1.9808 - val_accuracy: 0.5097\n",
            "Epoch 8/100\n",
            "710/710 [==============================] - 142s 200ms/step - loss: 0.8657 - accuracy: 0.7685 - val_loss: 0.6031 - val_accuracy: 0.5187\n",
            "Epoch 9/100\n",
            "\n",
            "710/710 [==============================] - 142s 200ms/step - loss: 0.8034 - accuracy: 0.7875 - val_loss: 1.6392 - val_accuracy: 0.5298\n",
            "Epoch 10/100\n",
            "710/710 [==============================] - 142s 200ms/step - loss: 0.7603 - accuracy: 0.7953 - val_loss: 1.7677 - val_accuracy: 0.5229\n",
            "Epoch 11/100\n",
            "710/710 [==============================] - 142s 200ms/step - loss: 0.7157 - accuracy: 0.8078 - val_loss: 0.8940 - val_accuracy: 0.5277\n",
            "Epoch 12/100\n",
            "710/710 [==============================] - 142s 200ms/step - loss: 0.6833 - accuracy: 0.8186 - val_loss: 3.5804 - val_accuracy: 0.5284\n",
            "Epoch 13/100\n",
            "710/710 [==============================] - 142s 200ms/step - loss: 0.6441 - accuracy: 0.8305 - val_loss: 1.0958 - val_accuracy: 0.5381\n",
            "Epoch 14/100\n",
            "Epoch 13/100\n",
            "710/710 [==============================] - 142s 200ms/step - loss: 0.5980 - accuracy: 0.8462 - val_loss: 2.3128 - val_accuracy: 0.5395\n",
            "Epoch 15/100\n",
            "710/710 [==============================] - 142s 199ms/step - loss: 0.5713 - accuracy: 0.8523 - val_loss: 3.3190 - val_accuracy: 0.5423\n",
            "Epoch 16/100\n",
            "710/710 [==============================] - 142s 200ms/step - loss: 0.5457 - accuracy: 0.8607 - val_loss: 0.7575 - val_accuracy: 0.5416\n",
            "Epoch 17/100\n",
            "710/710 [==============================] - 142s 200ms/step - loss: 0.5033 - accuracy: 0.8755 - val_loss: 0.9055 - val_accuracy: 0.5437\n",
            "Epoch 18/100\n",
            "710/710 [==============================] - 142s 200ms/step - loss: 0.4846 - accuracy: 0.8806 - val_loss: 0.2464 - val_accuracy: 0.5458\n",
            "Epoch 18/100\n",
            "Epoch 19/100\n",
            "710/710 [==============================] - 142s 200ms/step - loss: 0.4558 - accuracy: 0.8858 - val_loss: 2.4380 - val_accuracy: 0.5548\n",
            "Epoch 20/100\n",
            "710/710 [==============================] - 142s 200ms/step - loss: 0.4286 - accuracy: 0.8962 - val_loss: 2.0513 - val_accuracy: 0.5562\n",
            "Epoch 21/100\n",
            "710/710 [==============================] - 142s 200ms/step - loss: 0.4030 - accuracy: 0.9062 - val_loss: 0.7648 - val_accuracy: 0.5548\n",
            "Epoch 22/100\n",
            "\n",
            "710/710 [==============================] - 142s 200ms/step - loss: 0.3846 - accuracy: 0.9072 - val_loss: 0.9596 - val_accuracy: 0.5548\n",
            "Epoch 23/100\n",
            "710/710 [==============================] - 142s 200ms/step - loss: 0.3619 - accuracy: 0.9134 - val_loss: 0.2179 - val_accuracy: 0.5576\n",
            "Epoch 24/100\n",
            "710/710 [==============================] - 142s 201ms/step - loss: 0.3465 - accuracy: 0.9202 - val_loss: 0.4271 - val_accuracy: 0.5499\n",
            "Epoch 25/100\n",
            "710/710 [==============================] - 142s 200ms/step - loss: 0.3256 - accuracy: 0.9266 - val_loss: 1.0879 - val_accuracy: 0.5534\n",
            "Epoch 26/100\n",
            "710/710 [==============================] - 142s 200ms/step - loss: 0.3085 - accuracy: 0.9295 - val_loss: 0.0787 - val_accuracy: 0.5617\n",
            "Epoch 27/100\n",
            "710/710 [==============================] - 142s 200ms/step - loss: 0.2922 - accuracy: 0.9355 - val_loss: 1.0527 - val_accuracy: 0.5673\n",
            "Epoch 28/100\n",
            "710/710 [==============================] - 142s 200ms/step - loss: 0.2778 - accuracy: 0.9376 - val_loss: 0.1230 - val_accuracy: 0.5596\n",
            "Epoch 29/100\n",
            "710/710 [==============================] - 142s 200ms/step - loss: 0.2544 - accuracy: 0.9442 - val_loss: 0.2760 - val_accuracy: 0.5624\n",
            "Epoch 30/100\n",
            "Epoch 29/100\n",
            "710/710 [==============================] - 142s 200ms/step - loss: 0.2517 - accuracy: 0.9463 - val_loss: 0.4247 - val_accuracy: 0.5721\n",
            "Epoch 31/100\n",
            "710/710 [==============================] - 142s 200ms/step - loss: 0.2380 - accuracy: 0.9474 - val_loss: 0.6286 - val_accuracy: 0.5659\n",
            "Epoch 32/100\n",
            "709/710 [============================>.] - ETA: 0s - loss: 0.2229 - accuracy: 0.9541Epoch 32/100\n",
            "710/710 [==============================] - 142s 200ms/step - loss: 0.2230 - accuracy: 0.9541 - val_loss: 0.7107 - val_accuracy: 0.5721\n",
            "Epoch 33/100\n",
            "710/710 [==============================] - 142s 200ms/step - loss: 0.2113 - accuracy: 0.9568 - val_loss: 2.8963 - val_accuracy: 0.5742\n",
            "Epoch 33/100Epoch 34/100\n",
            "710/710 [==============================] - 142s 200ms/step - loss: 0.1985 - accuracy: 0.9582 - val_loss: 0.1382 - val_accuracy: 0.5749\n",
            "Epoch 35/100\n",
            "710/710 [==============================] - 142s 200ms/step - loss: 0.1941 - accuracy: 0.9597 - val_loss: 0.9297 - val_accuracy: 0.5714\n",
            "Epoch 36/100\n",
            "710/710 [==============================] - 142s 200ms/step - loss: 0.1801 - accuracy: 0.9627 - val_loss: 0.9888 - val_accuracy: 0.5721\n"
          ],
          "name": "stdout"
        }
      ]
    },
    {
      "cell_type": "code",
      "metadata": {
        "id": "BPBXfTD9IJW4",
        "colab_type": "code",
        "colab": {
          "base_uri": "https://localhost:8080/",
          "height": 265
        },
        "outputId": "8ddb3e5c-0e24-49ce-f377-bcc3037fb64c"
      },
      "source": [
        "plt.plot(history.history['loss'], label='train loss')\n",
        "plt.plot(history.history['val_loss'], label='val loss')\n",
        "plt.legend()\n",
        "plt.show()"
      ],
      "execution_count": 19,
      "outputs": [
        {
          "output_type": "display_data",
          "data": {
            "image/png": "[encoded data removed]",
            "text/plain": [
              "<Figure size 432x288 with 1 Axes>"
            ]
          },
          "metadata": {
            "tags": [],
            "needs_background": "light"
          }
        }
      ]
    },
    {
      "cell_type": "code",
      "metadata": {
        "id": "WuPkdqGUo0zc",
        "colab_type": "code",
        "colab": {
          "base_uri": "https://localhost:8080/",
          "height": 265
        },
        "outputId": "810ad2f0-be15-44cf-ca86-65e4969eb4d3"
      },
      "source": [
        "plt.plot(history.history['accuracy'], label='train acc')\n",
        "plt.plot(history.history['val_accuracy'], label='val acc')\n",
        "plt.legend()\n",
        "plt.show()"
      ],
      "execution_count": 20,
      "outputs": [
        {
          "output_type": "display_data",
          "data": {
            "image/png": "[encoded data removed]",
            "text/plain": [
              "<Figure size 432x288 with 1 Axes>"
            ]
          },
          "metadata": {
            "tags": [],
            "needs_background": "light"
          }
        }
      ]
    },
    {
      "cell_type": "code",
      "metadata": {
        "id": "bW1qfI5qo21X",
        "colab_type": "code",
        "colab": {}
      },
      "source": [
        "from tensorflow.keras.models import load_model\n",
        "from tensorflow.keras.preprocessing import image"
      ],
      "execution_count": 38,
      "outputs": []
    },
    {
      "cell_type": "code",
      "metadata": {
        "id": "S39sSMyoo5KQ",
        "colab_type": "code",
        "colab": {}
      },
      "source": [
        "from tensorflow.keras.models import load_model\n",
        "\n",
        "model.save('playingcardfinalmaybe.h5')"
      ],
      "execution_count": 22,
      "outputs": []
    },
    {
      "cell_type": "code",
      "metadata": {
        "id": "su2QmfV5o8YS",
        "colab_type": "code",
        "colab": {}
      },
      "source": [
        "from tensorflow.keras.models import load_model\n",
        "from tensorflow.keras.preprocessing import image\n",
        "img = image.load_img(\"/content/drive/My Drive/test/six c.jpg\", target_size=(224,224))"
      ],
      "execution_count": 65,
      "outputs": []
    },
    {
      "cell_type": "code",
      "metadata": {
        "id": "N6LXaOSwo_d3",
        "colab_type": "code",
        "colab": {
          "base_uri": "https://localhost:8080/",
          "height": 279
        },
        "outputId": "af15a084-d069-417e-9283-78312a737410"
      },
      "source": [
        "image = image.img_to_array(img)\n",
        "\n",
        "image = image/255.  # Add this line \n",
        "\n",
        "image = image.reshape((1, image.shape[0], image.shape[1], image.shape[2]))\n",
        "\n",
        "model.predict(image)\n"
      ],
      "execution_count": 66,
      "outputs": [
        {
          "output_type": "execute_result",
          "data": {
            "text/plain": [
              "array([[3.8233385e-03, 3.0994690e-03, 8.9581730e-03, 5.9029128e-02,\n",
              "        2.0975487e-02, 6.8677598e-01, 9.7702183e-03, 7.4876085e-02,\n",
              "        5.8908466e-02, 7.6544842e-05, 1.3862740e-03, 1.0392014e-03,\n",
              "        1.1157897e-02, 2.9363766e-06, 1.3603053e-04, 7.7313627e-05,\n",
              "        1.1020312e-04, 5.3804013e-04, 1.7153024e-04, 8.0434747e-06,\n",
              "        7.2853851e-05, 2.5920081e-04, 4.3111631e-06, 1.4222538e-06,\n",
              "        1.2298431e-03, 2.0793990e-04, 2.7370002e-05, 9.3215887e-05,\n",
              "        1.4064070e-04, 4.0585101e-03, 4.9910694e-04, 3.0300509e-02,\n",
              "        8.4839761e-04, 6.0611370e-04, 1.5315203e-03, 2.4134695e-05,\n",
              "        3.9941620e-04, 1.2430994e-04, 1.6186996e-04, 4.5105029e-05,\n",
              "        9.9712168e-05, 2.2473705e-05, 1.4480383e-03, 2.1755972e-04,\n",
              "        7.4473992e-03, 1.3000960e-04, 1.9145857e-04, 1.6689324e-03,\n",
              "        3.3776178e-05, 5.1582819e-03, 1.7382763e-03, 2.8803982e-04]],\n",
              "      dtype=float32)"
            ]
          },
          "metadata": {
            "tags": []
          },
          "execution_count": 66
        }
      ]
    },
    {
      "cell_type": "code",
      "metadata": {
        "id": "8PefnMtdpD8q",
        "colab_type": "code",
        "colab": {}
      },
      "source": [
        "a=np.argmax(model.predict(image), axis=1)\n"
      ],
      "execution_count": 67,
      "outputs": []
    },
    {
      "cell_type": "code",
      "metadata": {
        "id": "GmrtqyI6pGk3",
        "colab_type": "code",
        "colab": {
          "base_uri": "https://localhost:8080/",
          "height": 36
        },
        "outputId": "c1ce651c-aa45-4b4c-e70b-f3dca480c918"
      },
      "source": [
        "a"
      ],
      "execution_count": 68,
      "outputs": [
        {
          "output_type": "execute_result",
          "data": {
            "text/plain": [
              "array([5])"
            ]
          },
          "metadata": {
            "tags": []
          },
          "execution_count": 68
        }
      ]
    },
    {
      "cell_type": "code",
      "metadata": {
        "id": "kToxm7PDpHKT",
        "colab_type": "code",
        "colab": {
          "base_uri": "https://localhost:8080/",
          "height": 989
        },
        "outputId": "626cf8bc-d3b5-4cfd-c5d2-56a0271ce182"
      },
      "source": [
        "training_set.class_indices"
      ],
      "execution_count": 69,
      "outputs": [
        {
          "output_type": "execute_result",
          "data": {
            "text/plain": [
              "{'C10': 0,\n",
              " 'C2': 1,\n",
              " 'C3': 2,\n",
              " 'C4': 3,\n",
              " 'C5': 4,\n",
              " 'C6': 5,\n",
              " 'C7': 6,\n",
              " 'C8': 7,\n",
              " 'C9': 8,\n",
              " 'CA': 9,\n",
              " 'CJ': 10,\n",
              " 'CK': 11,\n",
              " 'CQ': 12,\n",
              " 'D10': 13,\n",
              " 'D2': 14,\n",
              " 'D3': 15,\n",
              " 'D4': 16,\n",
              " 'D5': 17,\n",
              " 'D6': 18,\n",
              " 'D7': 19,\n",
              " 'D8': 20,\n",
              " 'D9': 21,\n",
              " 'DA': 22,\n",
              " 'DJ': 23,\n",
              " 'DK': 24,\n",
              " 'DQ': 25,\n",
              " 'H10': 26,\n",
              " 'H2': 27,\n",
              " 'H3': 28,\n",
              " 'H4': 29,\n",
              " 'H5': 30,\n",
              " 'H6': 31,\n",
              " 'H7': 32,\n",
              " 'H8': 33,\n",
              " 'H9': 34,\n",
              " 'HA': 35,\n",
              " 'HJ': 36,\n",
              " 'HK': 37,\n",
              " 'HQ': 38,\n",
              " 'S10': 39,\n",
              " 'S2': 40,\n",
              " 'S3': 41,\n",
              " 'S4': 42,\n",
              " 'S5': 43,\n",
              " 'S6': 44,\n",
              " 'S7': 45,\n",
              " 'S8': 46,\n",
              " 'S9': 47,\n",
              " 'SA': 48,\n",
              " 'SJ': 49,\n",
              " 'SK': 50,\n",
              " 'SQ': 51}"
            ]
          },
          "metadata": {
            "tags": []
          },
          "execution_count": 69
        }
      ]
    },
    {
      "cell_type": "code",
      "metadata": {
        "id": "XYR0KYjYpK4P",
        "colab_type": "code",
        "colab": {}
      },
      "source": [
        ""
      ],
      "execution_count": null,
      "outputs": []
    }
  ]
}